{
 "cells": [
  {
   "cell_type": "markdown",
   "id": "8f21920d-85e2-4bfe-83ed-7bcb18ed91e3",
   "metadata": {},
   "source": [
    "# Data Science Tools and Ecosystem"
   ]
  },
  {
   "cell_type": "markdown",
   "id": "89cb11fb-52c9-4dc5-aa10-3269c96b715a",
   "metadata": {},
   "source": [
    "In this notebook, Data Science Tools and Ecosystem are summarized."
   ]
  },
  {
   "cell_type": "markdown",
   "id": "82d4b61b-82e7-4842-b322-dea5c081f615",
   "metadata": {},
   "source": [
    "__Objectives__\n",
    "\n",
    "* List of popular languages that Data Scientists use\n",
    "* Commonly used libraries by Data Scientists\n",
    "* List Data Science Tools\n",
    "* How to use arithmatic expressions in Python "
   ]
  },
  {
   "cell_type": "markdown",
   "id": "e6eaf115-b503-4bef-a08b-fa652a399f79",
   "metadata": {},
   "source": [
    "Some of the popular languages that Data Scientists use are:\n",
    "1. Python\n",
    "2. R\n",
    "3. SQL"
   ]
  },
  {
   "cell_type": "markdown",
   "id": "d5a5291d-ee11-45eb-96c1-65229af85667",
   "metadata": {},
   "source": [
    "Some of the commonly used libraries used by Data Scientists include:\n",
    "1. Pandas\n",
    "2. NumPy\n",
    "3. Scikit"
   ]
  },
  {
   "cell_type": "markdown",
   "id": "004ced41-fdd7-424c-aaf3-ae2f4a87ce99",
   "metadata": {},
   "source": [
    "| Data Science Tools |\n",
    "|--------------------|\n",
    "| Jupyter Lab |\n",
    "| R Studio |\n",
    "| TensorFlow |"
   ]
  },
  {
   "cell_type": "markdown",
   "id": "bb2191fc-113c-4b0e-8361-9a12c729b013",
   "metadata": {},
   "source": [
    "### Below are a few examples of evaluating arithmetic expressions in Python"
   ]
  },
  {
   "cell_type": "code",
   "execution_count": 21,
   "id": "00585877-6094-4b43-8061-29ba31f23bba",
   "metadata": {},
   "outputs": [
    {
     "data": {
      "text/plain": [
       "17"
      ]
     },
     "execution_count": 21,
     "metadata": {},
     "output_type": "execute_result"
    }
   ],
   "source": [
    "# This is a simple arithmetic expression to multiply then add integers\n",
    "\n",
    "(3*4)+5"
   ]
  },
  {
   "cell_type": "code",
   "execution_count": 27,
   "id": "594f1a9c-24fd-4533-b690-ec5c6e23b62b",
   "metadata": {},
   "outputs": [
    {
     "name": "stdout",
     "output_type": "stream",
     "text": [
      "200 minutes in hours is: 3.3333333333333335\n"
     ]
    }
   ],
   "source": [
    "# Convert 200 minutes to hours by dividing it by 60\n",
    "\n",
    "x = 200 / 60\n",
    "print (\"200 minutes in hours is:\",x)"
   ]
  },
  {
   "cell_type": "markdown",
   "id": "6d151198-15d3-4d3e-8f27-8e0bb9bdb4a3",
   "metadata": {},
   "source": [
    "## Author\n",
    "Supathi Panchal"
   ]
  }
 ],
 "metadata": {
  "kernelspec": {
   "display_name": "Python [conda env:base] *",
   "language": "python",
   "name": "conda-base-py"
  },
  "language_info": {
   "codemirror_mode": {
    "name": "ipython",
    "version": 3
   },
   "file_extension": ".py",
   "mimetype": "text/x-python",
   "name": "python",
   "nbconvert_exporter": "python",
   "pygments_lexer": "ipython3",
   "version": "3.12.7"
  }
 },
 "nbformat": 4,
 "nbformat_minor": 5
}
